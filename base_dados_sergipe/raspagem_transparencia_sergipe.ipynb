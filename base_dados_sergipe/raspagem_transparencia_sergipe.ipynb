{
 "cells": [
  {
   "cell_type": "markdown",
   "id": "44ea2a44",
   "metadata": {},
   "source": [
    "##### [Modelo de extração de dados do Portal da Transparência de Sergipe](https://www.transparencia.se.gov.br/Pessoal/PorOrgao.xhtml)\n",
    "\n",
    "##### Possibilidades de obtenção de dados:\n",
    "- Por Orgão;\n",
    "- Por Entidade.\n",
    "\n",
    "> [Documentação aqui](https://serigy.tce.se.gov.br/comum/recursos-humanos.html#_6-1-folha-de-pagamento)\n",
    "\n",
    "\n",
    "27-/07 - Diretoria de Modernização e Tecnologia (DMT) - (79) 3216-4433 - 4625\n",
    "\n",
    "Valmor: Serigy é uma documentação que apresenta o padrão de codificação a ser implementados pelos municípios, e que permite ao crawler do TCESE obter os dadados e consolida-los. \n"
   ]
  },
  {
   "cell_type": "markdown",
   "id": "b637330d",
   "metadata": {},
   "source": [
    "##### Importa bibliotecas"
   ]
  },
  {
   "cell_type": "code",
   "execution_count": 9,
   "id": "9350541c",
   "metadata": {},
   "outputs": [],
   "source": [
    "import pandas as pd"
   ]
  },
  {
   "cell_type": "markdown",
   "id": "bd316d76",
   "metadata": {},
   "source": [
    "1. Cria pastas no diretório download"
   ]
  },
  {
   "cell_type": "code",
   "execution_count": 10,
   "id": "d59a0507",
   "metadata": {},
   "outputs": [],
   "source": [
    "import os\n",
    "\n",
    "# Caminho do diretório de downloads\n",
    "download_dir = r\"C:\\Estudos FGV Projetos\\2025-projeto-sergipe\\base_dados_sergipe\\downloads\"\n",
    "os.makedirs(download_dir, exist_ok=True)\n",
    "\n",
    "# Cria pastas\n",
    "folder_names = [\n",
    "    \"FES-27-EFETIVO\",\n",
    "    \"FES-265-PSS\",\n",
    "    \"FES-151-SAMU\",\n",
    "    \"FHS-206-CLT-24910\",\n",
    "    \"FHS-205-CLT-24900\",\n",
    "    \"FHS-152-EFETIVO\",\n",
    "    \"FHS-226-ESTAGIARIO\",\n",
    "    \"FSPH-167-EFETIVO\",\n",
    "    \"FUNESA-168\",\n",
    "    \"RAW\"\n",
    "]\n",
    "\n",
    "# executa a criação das pastas.\n",
    "## se elas já existem, ignora. Uma vez que podem conter arquivos.\n",
    "for folder_name in folder_names:\n",
    "    folder_path = os.path.join(download_dir, folder_name)\n",
    "    os.makedirs(folder_path, exist_ok=True)"
   ]
  },
  {
   "cell_type": "markdown",
   "id": "3be41b49",
   "metadata": {},
   "source": [
    "2. Função de raspagem de dados"
   ]
  },
  {
   "cell_type": "code",
   "execution_count": 11,
   "id": "ac44ae90",
   "metadata": {},
   "outputs": [],
   "source": [
    "import time\n",
    "import pandas as pd\n",
    "from selenium import webdriver\n",
    "from selenium.webdriver.chrome.options import Options\n",
    "from selenium.webdriver.common.by import By\n",
    "from selenium.webdriver.support.ui import WebDriverWait\n",
    "from selenium.webdriver.support import expected_conditions as EC\n",
    "from selenium.common.exceptions import WebDriverException\n",
    "from selenium.webdriver.support.ui import Select\n",
    "from tqdm import tqdm\n",
    "\n",
    "# Configurações do Chrome\n",
    "chrome_options = Options()\n",
    "\n",
    "#✅ Executa em segundo plano (sem abrir janela do navegador)\n",
    "chrome_options.add_argument(\"--headless\")\n",
    "chrome_options.add_argument(\"--disable-gpu\")\n",
    "chrome_options.add_argument(\"--window-size=1920,1080\")\n",
    "chrome_options.add_argument(\"--no-sandbox\")\n",
    "chrome_options.add_argument(\"--disable-dev-shm-usage\")\n",
    "\n",
    "chrome_options.add_experimental_option(\"prefs\", {\n",
    "    \"download.default_directory\": r\"C:\\Estudos FGV Projetos\\2025-projeto-sergipe\\base_dados_sergipe\\downloads\\RAW\",\n",
    "    \"download.prompt_for_download\": False,\n",
    "    \"download.directory_upgrade\": True,\n",
    "    \"safebrowsing.enabled\": True,\n",
    "    \"profile.default_content_settings.popups\": 0,\n",
    "    \"profile.default_content_setting_values.automatic_downloads\": 1,\n",
    "})\n",
    "\n",
    "# ✅ Inicia o driver com as opções\n",
    "driver = webdriver.Chrome(options=chrome_options)\n",
    "wait = WebDriverWait(driver, 20)\n",
    "\n",
    "# Função para configurar os filtros e baixar o CSV\n",
    "def setaConfigs(wait, driver, mes, ano, orgao):\n",
    "\n",
    "    resultado = f\"{orgao}-{mes}-{ano}\"\n",
    "\n",
    "    # Sessão em branco\n",
    "    driver.get(\"about:blank\")\n",
    "    time.sleep(2)\n",
    "\n",
    "    # Chama o driver a cada iteração.\n",
    "    try:\n",
    "        driver.get(\"https://www.transparencia.se.gov.br/Pessoal/PorOrgao.xhtml?faces-redirect=true\")\n",
    "        time.sleep(5)\n",
    "    except WebDriverException as e:\n",
    "        print(f\"Erro ao carregar a página: {e}\")\n",
    "\n",
    "    # Imprime o órgão e o período\n",
    "    #print(f\"{orgao} -> {mes}/{ano}\")\n",
    "    time.sleep(2)\n",
    "\n",
    "    # Clica no filtro \"Orgão\"\n",
    "    orgao_label = wait.until(EC.element_to_be_clickable((By.CSS_SELECTOR, \"label[for='frmPrincipal:j_idt170:0']\")))\n",
    "    orgao_label.click()\n",
    "    time.sleep(5)\n",
    "\n",
    "    # Seleciona o ano\n",
    "    select_ano = wait.until(EC.element_to_be_clickable((By.ID, \"frmPrincipal:ano\")))\n",
    "    Select(select_ano).select_by_value(str(ano))\n",
    "    time.sleep(2)\n",
    "\n",
    "    # Seleciona o mês\n",
    "    select_mes = wait.until(EC.element_to_be_clickable((By.ID, \"frmPrincipal:mes\")))\n",
    "    Select(select_mes).select_by_value(str(mes))\n",
    "    time.sleep(2)\n",
    "\n",
    "    # Seleciona o órgão\n",
    "    select_orgao = wait.until(EC.element_to_be_clickable((By.ID, \"frmPrincipal:selOrgao\")))\n",
    "    select_element = Select(select_orgao)\n",
    "    time.sleep(2)\n",
    "\n",
    "    # Verifica se o valor está presente nas opções do dropdown\n",
    "    options = [option.get_attribute(\"value\") for option in select_element.options]\n",
    "    if str(orgao) in options:\n",
    "        select_element.select_by_value(str(orgao))\n",
    "        time.sleep(5)\n",
    "\n",
    "        # Clica em \"Pesquisar\"\n",
    "        pesquisar = wait.until(EC.element_to_be_clickable((By.ID, \"frmPrincipal:botaoPesquisar\")))\n",
    "        pesquisar.click()\n",
    "        time.sleep(20)\n",
    "\n",
    "        # 👉 Clica no botão de download .CSV\n",
    "        wait.until(EC.invisibility_of_element((By.CLASS_NAME, \"loadDiv\")))\n",
    "\n",
    "        # Clica no botão para baixar o CSV\n",
    "        # Encontra o botão pelo seletor CSS e clica nele\n",
    "        btn_csv = wait.until(EC.element_to_be_clickable((By.CSS_SELECTOR, \"button#frmPrincipal\\\\:j_idt197\")))\n",
    "        return btn_csv.click(), resultado, orgao\n",
    "        \n",
    "    # Limpar cookies e fechar o driver\n",
    "    time.sleep(2)\n",
    "    driver.delete_all_cookies()\n",
    "    driver.quit()"
   ]
  },
  {
   "cell_type": "markdown",
   "id": "93afa3b8",
   "metadata": {},
   "source": [
    "3. Função aguardar download do arquivo"
   ]
  },
  {
   "cell_type": "code",
   "execution_count": 12,
   "id": "ff2fa3ed",
   "metadata": {},
   "outputs": [],
   "source": [
    "import os\n",
    "import shutil\n",
    "import time\n",
    "\n",
    "# Função para aguardar o download de um arquivo CSV\n",
    "def aguardar_csv(pasta, timeout=30):\n",
    "    #print(\"⏳ Aguardando download do CSV...\")\n",
    "    tempo_inicio = time.time()\n",
    "    while time.time() - tempo_inicio < timeout:\n",
    "        arquivos_csv = [f for f in os.listdir(pasta) if f.endswith(\".csv\")]\n",
    "        if arquivos_csv:\n",
    "            return arquivos_csv[0]\n",
    "        time.sleep(1)\n",
    "    return None"
   ]
  },
  {
   "cell_type": "markdown",
   "id": "046b3c6b",
   "metadata": {},
   "source": [
    "4. Execução"
   ]
  },
  {
   "cell_type": "code",
   "execution_count": 24,
   "id": "eef76701",
   "metadata": {},
   "outputs": [
    {
     "name": "stderr",
     "output_type": "stream",
     "text": [
      "Meses:   0%|          | 0/6 [00:00<?, ?it/s]"
     ]
    },
    {
     "name": "stdout",
     "output_type": "stream",
     "text": [
      "Processando: 27 - 1/2025\n"
     ]
    },
    {
     "name": "stderr",
     "output_type": "stream",
     "text": []
    },
    {
     "name": "stdout",
     "output_type": "stream",
     "text": [
      "Processando: 265 - 1/2025\n"
     ]
    },
    {
     "name": "stderr",
     "output_type": "stream",
     "text": []
    },
    {
     "name": "stdout",
     "output_type": "stream",
     "text": [
      "Processando: 151 - 1/2025\n"
     ]
    },
    {
     "name": "stderr",
     "output_type": "stream",
     "text": []
    },
    {
     "name": "stdout",
     "output_type": "stream",
     "text": [
      "Processando: 205 - 1/2025\n"
     ]
    },
    {
     "name": "stderr",
     "output_type": "stream",
     "text": []
    },
    {
     "name": "stdout",
     "output_type": "stream",
     "text": [
      "Processando: 206 - 1/2025\n"
     ]
    },
    {
     "name": "stderr",
     "output_type": "stream",
     "text": []
    },
    {
     "name": "stdout",
     "output_type": "stream",
     "text": [
      "Processando: 152 - 1/2025\n"
     ]
    },
    {
     "name": "stderr",
     "output_type": "stream",
     "text": []
    },
    {
     "name": "stdout",
     "output_type": "stream",
     "text": [
      "Processando: 226 - 1/2025\n"
     ]
    },
    {
     "name": "stderr",
     "output_type": "stream",
     "text": []
    },
    {
     "name": "stdout",
     "output_type": "stream",
     "text": [
      "Processando: 167 - 1/2025\n"
     ]
    },
    {
     "name": "stderr",
     "output_type": "stream",
     "text": []
    },
    {
     "name": "stdout",
     "output_type": "stream",
     "text": [
      "Processando: 168 - 1/2025\n"
     ]
    },
    {
     "name": "stderr",
     "output_type": "stream",
     "text": [
      "Meses:  17%|█▋        | 1/6 [07:06<35:32, 426.60s/it]"
     ]
    },
    {
     "name": "stdout",
     "output_type": "stream",
     "text": [
      "Processando: 27 - 2/2025\n"
     ]
    },
    {
     "name": "stderr",
     "output_type": "stream",
     "text": []
    },
    {
     "name": "stdout",
     "output_type": "stream",
     "text": [
      "Processando: 265 - 2/2025\n"
     ]
    },
    {
     "name": "stderr",
     "output_type": "stream",
     "text": []
    },
    {
     "name": "stdout",
     "output_type": "stream",
     "text": [
      "Processando: 151 - 2/2025\n"
     ]
    },
    {
     "name": "stderr",
     "output_type": "stream",
     "text": []
    },
    {
     "name": "stdout",
     "output_type": "stream",
     "text": [
      "Processando: 205 - 2/2025\n"
     ]
    },
    {
     "name": "stderr",
     "output_type": "stream",
     "text": []
    },
    {
     "name": "stdout",
     "output_type": "stream",
     "text": [
      "Processando: 206 - 2/2025\n"
     ]
    },
    {
     "name": "stderr",
     "output_type": "stream",
     "text": []
    },
    {
     "name": "stdout",
     "output_type": "stream",
     "text": [
      "Processando: 152 - 2/2025\n"
     ]
    },
    {
     "name": "stderr",
     "output_type": "stream",
     "text": []
    },
    {
     "name": "stdout",
     "output_type": "stream",
     "text": [
      "Processando: 226 - 2/2025\n"
     ]
    },
    {
     "name": "stderr",
     "output_type": "stream",
     "text": []
    },
    {
     "name": "stdout",
     "output_type": "stream",
     "text": [
      "Processando: 167 - 2/2025\n"
     ]
    },
    {
     "name": "stderr",
     "output_type": "stream",
     "text": []
    },
    {
     "name": "stdout",
     "output_type": "stream",
     "text": [
      "Processando: 168 - 2/2025\n"
     ]
    },
    {
     "name": "stderr",
     "output_type": "stream",
     "text": [
      "Meses:  33%|███▎      | 2/6 [14:14<28:30, 427.57s/it]"
     ]
    },
    {
     "name": "stdout",
     "output_type": "stream",
     "text": [
      "Processando: 27 - 3/2025\n"
     ]
    },
    {
     "name": "stderr",
     "output_type": "stream",
     "text": []
    },
    {
     "name": "stdout",
     "output_type": "stream",
     "text": [
      "Processando: 265 - 3/2025\n"
     ]
    },
    {
     "name": "stderr",
     "output_type": "stream",
     "text": []
    },
    {
     "name": "stdout",
     "output_type": "stream",
     "text": [
      "Processando: 151 - 3/2025\n"
     ]
    },
    {
     "name": "stderr",
     "output_type": "stream",
     "text": []
    },
    {
     "name": "stdout",
     "output_type": "stream",
     "text": [
      "Processando: 205 - 3/2025\n"
     ]
    },
    {
     "name": "stderr",
     "output_type": "stream",
     "text": []
    },
    {
     "name": "stdout",
     "output_type": "stream",
     "text": [
      "Processando: 206 - 3/2025\n"
     ]
    },
    {
     "name": "stderr",
     "output_type": "stream",
     "text": []
    },
    {
     "name": "stdout",
     "output_type": "stream",
     "text": [
      "Processando: 152 - 3/2025\n"
     ]
    },
    {
     "name": "stderr",
     "output_type": "stream",
     "text": []
    },
    {
     "name": "stdout",
     "output_type": "stream",
     "text": [
      "Processando: 226 - 3/2025\n"
     ]
    },
    {
     "name": "stderr",
     "output_type": "stream",
     "text": []
    },
    {
     "name": "stdout",
     "output_type": "stream",
     "text": [
      "Processando: 167 - 3/2025\n"
     ]
    },
    {
     "name": "stderr",
     "output_type": "stream",
     "text": []
    },
    {
     "name": "stdout",
     "output_type": "stream",
     "text": [
      "Processando: 168 - 3/2025\n"
     ]
    },
    {
     "name": "stderr",
     "output_type": "stream",
     "text": [
      "Meses:  50%|█████     | 3/6 [21:36<21:41, 433.87s/it]"
     ]
    },
    {
     "name": "stdout",
     "output_type": "stream",
     "text": [
      "Processando: 27 - 4/2025\n"
     ]
    },
    {
     "name": "stderr",
     "output_type": "stream",
     "text": []
    },
    {
     "name": "stdout",
     "output_type": "stream",
     "text": [
      "Processando: 265 - 4/2025\n"
     ]
    },
    {
     "name": "stderr",
     "output_type": "stream",
     "text": []
    },
    {
     "name": "stdout",
     "output_type": "stream",
     "text": [
      "Processando: 151 - 4/2025\n"
     ]
    },
    {
     "name": "stderr",
     "output_type": "stream",
     "text": []
    },
    {
     "name": "stdout",
     "output_type": "stream",
     "text": [
      "Processando: 205 - 4/2025\n"
     ]
    },
    {
     "name": "stderr",
     "output_type": "stream",
     "text": []
    },
    {
     "name": "stdout",
     "output_type": "stream",
     "text": [
      "Processando: 206 - 4/2025\n"
     ]
    },
    {
     "name": "stderr",
     "output_type": "stream",
     "text": []
    },
    {
     "name": "stdout",
     "output_type": "stream",
     "text": [
      "Processando: 152 - 4/2025\n"
     ]
    },
    {
     "name": "stderr",
     "output_type": "stream",
     "text": []
    },
    {
     "name": "stdout",
     "output_type": "stream",
     "text": [
      "Processando: 226 - 4/2025\n"
     ]
    },
    {
     "name": "stderr",
     "output_type": "stream",
     "text": []
    },
    {
     "name": "stdout",
     "output_type": "stream",
     "text": [
      "Processando: 167 - 4/2025\n"
     ]
    },
    {
     "name": "stderr",
     "output_type": "stream",
     "text": []
    },
    {
     "name": "stdout",
     "output_type": "stream",
     "text": [
      "Processando: 168 - 4/2025\n"
     ]
    },
    {
     "name": "stderr",
     "output_type": "stream",
     "text": [
      "Meses:  67%|██████▋   | 4/6 [28:42<14:21, 430.82s/it]"
     ]
    },
    {
     "name": "stdout",
     "output_type": "stream",
     "text": [
      "Processando: 27 - 5/2025\n"
     ]
    },
    {
     "name": "stderr",
     "output_type": "stream",
     "text": []
    },
    {
     "name": "stdout",
     "output_type": "stream",
     "text": [
      "Processando: 265 - 5/2025\n"
     ]
    },
    {
     "name": "stderr",
     "output_type": "stream",
     "text": []
    },
    {
     "name": "stdout",
     "output_type": "stream",
     "text": [
      "Processando: 151 - 5/2025\n"
     ]
    },
    {
     "name": "stderr",
     "output_type": "stream",
     "text": []
    },
    {
     "name": "stdout",
     "output_type": "stream",
     "text": [
      "Processando: 205 - 5/2025\n"
     ]
    },
    {
     "name": "stderr",
     "output_type": "stream",
     "text": []
    },
    {
     "name": "stdout",
     "output_type": "stream",
     "text": [
      "Processando: 206 - 5/2025\n"
     ]
    },
    {
     "name": "stderr",
     "output_type": "stream",
     "text": []
    },
    {
     "name": "stdout",
     "output_type": "stream",
     "text": [
      "Processando: 152 - 5/2025\n"
     ]
    },
    {
     "name": "stderr",
     "output_type": "stream",
     "text": []
    },
    {
     "name": "stdout",
     "output_type": "stream",
     "text": [
      "Processando: 226 - 5/2025\n"
     ]
    },
    {
     "name": "stderr",
     "output_type": "stream",
     "text": []
    },
    {
     "name": "stdout",
     "output_type": "stream",
     "text": [
      "Processando: 167 - 5/2025\n"
     ]
    },
    {
     "name": "stderr",
     "output_type": "stream",
     "text": []
    },
    {
     "name": "stdout",
     "output_type": "stream",
     "text": [
      "Processando: 168 - 5/2025\n"
     ]
    },
    {
     "name": "stderr",
     "output_type": "stream",
     "text": [
      "Meses:  83%|████████▎ | 5/6 [35:48<07:09, 429.14s/it]"
     ]
    },
    {
     "name": "stdout",
     "output_type": "stream",
     "text": [
      "Processando: 27 - 6/2025\n"
     ]
    },
    {
     "name": "stderr",
     "output_type": "stream",
     "text": []
    },
    {
     "name": "stdout",
     "output_type": "stream",
     "text": [
      "Processando: 265 - 6/2025\n"
     ]
    },
    {
     "name": "stderr",
     "output_type": "stream",
     "text": []
    },
    {
     "name": "stdout",
     "output_type": "stream",
     "text": [
      "Processando: 151 - 6/2025\n"
     ]
    },
    {
     "name": "stderr",
     "output_type": "stream",
     "text": []
    },
    {
     "name": "stdout",
     "output_type": "stream",
     "text": [
      "Processando: 205 - 6/2025\n"
     ]
    },
    {
     "name": "stderr",
     "output_type": "stream",
     "text": []
    },
    {
     "name": "stdout",
     "output_type": "stream",
     "text": [
      "Processando: 206 - 6/2025\n"
     ]
    },
    {
     "name": "stderr",
     "output_type": "stream",
     "text": []
    },
    {
     "name": "stdout",
     "output_type": "stream",
     "text": [
      "Processando: 152 - 6/2025\n"
     ]
    },
    {
     "name": "stderr",
     "output_type": "stream",
     "text": []
    },
    {
     "name": "stdout",
     "output_type": "stream",
     "text": [
      "Processando: 226 - 6/2025\n"
     ]
    },
    {
     "name": "stderr",
     "output_type": "stream",
     "text": []
    },
    {
     "name": "stdout",
     "output_type": "stream",
     "text": [
      "Processando: 167 - 6/2025\n"
     ]
    },
    {
     "name": "stderr",
     "output_type": "stream",
     "text": []
    },
    {
     "name": "stdout",
     "output_type": "stream",
     "text": [
      "Processando: 168 - 6/2025\n"
     ]
    },
    {
     "name": "stderr",
     "output_type": "stream",
     "text": [
      "                                                     \r"
     ]
    }
   ],
   "source": [
    "# Parametros de execução\n",
    "anos = range(2025, 2026)\n",
    "meses = range(1, 7)\n",
    "instituicoes = [27, 265, 151, 205, 206, 152, 226, 167, 168]\n",
    "\n",
    "# as instituições analisadas são essas:\n",
    "'''\n",
    "\"FES-27-EFETIVO\",\n",
    "\"FES-265-PSS\",\n",
    "\"FES-151-SAMU\",\n",
    "\"FHS-206-CLT-24910\",\n",
    "\"FHS-205-CLT-24900\",\n",
    "\"FHS-152-EFETIVO\",\n",
    "\"FHS-226-ESTAGIARIO\",\n",
    "\"FSPH-167-EFETIVO\",\n",
    "\"FUNESA-168\"\n",
    "'''\n",
    "\n",
    "# Loop principal\n",
    "for ano in anos:    \n",
    "    for mes in tqdm(meses, desc=\"Meses\", leave=False):\n",
    "        for instituicao in tqdm(instituicoes, desc=\"Instituições\", leave=False):\n",
    "            print(f\"Processando: {instituicao} - {mes}/{ano}\")\n",
    "            click_result, resultado, orgao = setaConfigs(wait, driver, mes, ano, instituicao)\n",
    "\n",
    "            download_raw_dir = r\"C:/Estudos FGV Projetos/2025-projeto-sergipe/base_dados_sergipe/downloads/RAW\"\n",
    "            download_base_dir = r\"C:/Estudos FGV Projetos/2025-projeto-sergipe/base_dados_sergipe/downloads\"\n",
    "\n",
    "            orgao_str = str(orgao)\n",
    "            pasta_alvo = next((folder for folder in folder_names if orgao_str in folder), None)\n",
    "\n",
    "            if pasta_alvo:\n",
    "                pasta_destino = os.path.join(download_base_dir, pasta_alvo)\n",
    "                os.makedirs(pasta_destino, exist_ok=True)\n",
    "\n",
    "                nome_arquivo = aguardar_csv(download_raw_dir, timeout=30)\n",
    "\n",
    "                if nome_arquivo:\n",
    "                    caminho_completo = os.path.join(download_raw_dir, nome_arquivo)\n",
    "\n",
    "                    primeiraParte = nome_arquivo.replace('Folha-de-Pagamento-', '').split('-')[0]\n",
    "                    segundaParte = nome_arquivo.replace('Folha-de-Pagamento-', '').split('-', 1)[1]\n",
    "                    novo_nome = f\"{primeiraParte}-{orgao}-{segundaParte}\"\n",
    "\n",
    "                    caminho_final = os.path.join(pasta_destino, novo_nome)\n",
    "                    \n",
    "                    # Mover o arquivo para a pasta de destino\n",
    "                    shutil.move(caminho_completo, caminho_final)\n",
    "\n",
    "                    # Verifica se o arquivo não está vazio antes de abrir\n",
    "                    if os.path.getsize(caminho_final) > 0:\n",
    "                        # Abrir o arquivo para leitura\n",
    "                        with open(caminho_final, mode='r', encoding='utf-8') as arquivo_entrada:\n",
    "                            dados = pd.read_csv(arquivo_entrada, sep=',', low_memory=False)\n",
    "                    else:\n",
    "                        print(f\"⚠️ Arquivo vazio: {caminho_final}\")\n",
    "                        continue\n",
    "\n",
    "                    # Modificar os dados\n",
    "                    dados['mes'] = mes\n",
    "                    dados['ano'] = ano\n",
    "                    dados['num_orgao'] = orgao\n",
    "\n",
    "                    # Abrir o arquivo para escrita (sobrescrevendo)\n",
    "                    with open(caminho_final, mode='w', encoding='utf-8', newline='') as arquivo_saida:\n",
    "                        dados.to_csv(arquivo_saida, index=False)\n",
    "                else:\n",
    "                    print(\"❌ CSV não foi encontrado ou não finalizou o download.\")\n",
    "            else:\n",
    "                print(f\"⚠️ Nenhuma pasta encontrada com o órgão {orgao}.\")\n"
   ]
  },
  {
   "cell_type": "markdown",
   "id": "dbe3d21b",
   "metadata": {},
   "source": [
    "4.5 Problemas encontrados na coleta"
   ]
  },
  {
   "cell_type": "markdown",
   "id": "d0659a1c",
   "metadata": {},
   "source": [
    "Dados:\n",
    "\n",
    "- Dados da FES-EFETIVO de julho de 2023 está indisponível no sistema;\n",
    "- Dados da FES-PSS dos meses janeiro, fevereiro, março e abril de 2021 estão indisponíveis;\n",
    "- Dados da FHS-CLT-24910 do mês de abril de 2025 não está diponível no sistema;\n",
    "- FUNESA não mostra a lista completa de funcionários. A lista é limitada a um grupo de 5 a 7 pessoas. Os dados podem ser obtidos no [site da FUNESA](https://funesa.se.gov.br/transparencia/pessoal-2/);\n",
    "- FSPH só disponibiliza dados dos funcionários efetivos. Não há dados para comissionados e estagiários. Esses dados só podem ser obtidos no [site da FSPH](https://www.hemose.se.gov.br/rh_transparencia.html).\n"
   ]
  },
  {
   "cell_type": "markdown",
   "id": "d556d19f",
   "metadata": {},
   "source": [
    "5. Junção das bases"
   ]
  },
  {
   "cell_type": "code",
   "execution_count": 26,
   "id": "2a970112",
   "metadata": {},
   "outputs": [
    {
     "name": "stdout",
     "output_type": "stream",
     "text": [
      "Total de linhas unidas: 1151546\n",
      "Total de arquivos processados: 480\n"
     ]
    }
   ],
   "source": [
    "import os\n",
    "import pandas as pd\n",
    "import glob\n",
    "\n",
    "download_base_dir = r\"C:/Estudos FGV Projetos/2025-projeto-sergipe/base_dados_sergipe/downloads\"\n",
    "\n",
    "# Lista para armazenar os DataFrames válidos\n",
    "lista_dfs = []\n",
    "\n",
    "# Percorre todas as subpastas e arquivos CSV\n",
    "for pasta_raiz, _, _ in os.walk(download_base_dir):\n",
    "    arquivos_csv = glob.glob(os.path.join(pasta_raiz, \"*.csv\"))\n",
    "    \n",
    "    for caminho_csv in arquivos_csv:\n",
    "        try:\n",
    "            # Lê apenas as primeiras 5 linhas para verificar se há dados\n",
    "            if os.path.getsize(caminho_csv) > 0:\n",
    "                df = pd.read_csv(caminho_csv, sep=\",\", low_memory=False)\n",
    "\n",
    "                # Ignora CSVs que existem mas estão tecnicamente vazios (sem colunas/dados)\n",
    "                if not df.empty:\n",
    "                    lista_dfs.append(df)\n",
    "        except Exception as e:\n",
    "            print(f\"Erro ao processar {caminho_csv}: {e}\")\n",
    "\n",
    "# Concatena todos os DataFrames válidos\n",
    "if lista_dfs:\n",
    "    dados_concatenados = pd.concat(lista_dfs, ignore_index=True)\n",
    "    print(f\"Total de linhas unidas: {len(dados_concatenados)}\")\n",
    "    print(f\"Total de arquivos processados: {len(lista_dfs)}\")\n",
    "    \n",
    "    # (Opcional) Salvar em CSV final\n",
    "    dados_concatenados.to_csv(\"C:/Estudos FGV Projetos/2025-projeto-sergipe/base_dados_sergipe/downloads/Consolidado/todos_os_dados_consolidados.csv\", index=False)\n",
    "else:\n",
    "    print(\"Nenhum CSV válido encontrado.\")\n"
   ]
  },
  {
   "cell_type": "markdown",
   "id": "e5ef7911",
   "metadata": {},
   "source": []
  },
  {
   "cell_type": "markdown",
   "id": "fe0e9c48",
   "metadata": {},
   "source": []
  },
  {
   "cell_type": "code",
   "execution_count": null,
   "id": "655489ae",
   "metadata": {},
   "outputs": [],
   "source": [
    "## Para uma primeira aproximação ao tamanho da amostra\n",
    "# n0 = tamanho incial da amostra\n",
    "# E0 = erro amostral admissível (0,05 → 5%, 0,03 → 3%) elevado ao quadrado\n",
    "\n",
    "# Fórmula = n0 = 1/(E0)^2\n",
    "n0 = 1\n",
    "E0 = 0.03\n",
    "primeira_aprox = n0 / E0 ** 2\n",
    "print(f\"Tamanho da amostra para uma primeira estimativa: {round(primeira_aprox, 2)}\")\n",
    "\n"
   ]
  },
  {
   "cell_type": "code",
   "execution_count": null,
   "id": "fd9bba62",
   "metadata": {},
   "outputs": [],
   "source": [
    "import math\n",
    "\n",
    "Z = 1.96        # 95% de confiança\n",
    "p = 0.5         # proporção segura\n",
    "E = 0.03        # erro amostral de 3% (0.03)\n",
    "\n",
    "n0 = (Z**2 * p * (1 - p)) / E**2\n",
    "print(f\"Tamanho da amostra infinita: {n0:.0f}\")"
   ]
  },
  {
   "cell_type": "code",
   "execution_count": null,
   "id": "37e647f7",
   "metadata": {},
   "outputs": [],
   "source": [
    "# Parâmetros\n",
    "Z = 1.96      # 95% de confiança\n",
    "p = 0.5       # proporção esperada\n",
    "E = 0.03      # margem de erro (3%)\n",
    "N = 1139047   # população finita\n",
    "\n",
    "# Tamanho da amostra infinita\n",
    "n0 = (Z**2 * p * (1 - p)) / (E**2)\n",
    "\n",
    "# Correção para população finita\n",
    "n = (N * n0) / (N + n0 - 1)\n",
    "\n",
    "# Exibe o resultado\n",
    "print(f\"Tamanho da amostra (população finita): {round(n)}\")"
   ]
  },
  {
   "cell_type": "markdown",
   "id": "2b748b4a",
   "metadata": {},
   "source": []
  }
 ],
 "metadata": {
  "kernelspec": {
   "display_name": "base",
   "language": "python",
   "name": "python3"
  },
  "language_info": {
   "codemirror_mode": {
    "name": "ipython",
    "version": 3
   },
   "file_extension": ".py",
   "mimetype": "text/x-python",
   "name": "python",
   "nbconvert_exporter": "python",
   "pygments_lexer": "ipython3",
   "version": "3.12.4"
  }
 },
 "nbformat": 4,
 "nbformat_minor": 5
}
