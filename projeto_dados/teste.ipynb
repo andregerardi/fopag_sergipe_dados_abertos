{
 "cells": [
  {
   "cell_type": "code",
   "execution_count": null,
   "id": "122096ea",
   "metadata": {},
   "outputs": [
    {
     "data": {
      "text/plain": [
       "True"
      ]
     },
     "execution_count": 1,
     "metadata": {},
     "output_type": "execute_result"
    }
   ],
   "source": [
    "## precisa importar o python do projeto sergipe\n",
    "\n",
    "from ferramentas import ferramentas\n",
    "\n",
    "ferramentas.validar_cpf(\"006.430.319-52\")\n"
   ]
  }
 ],
 "metadata": {
  "kernelspec": {
   "display_name": "2025-projeto-sergipe",
   "language": "python",
   "name": "python3"
  },
  "language_info": {
   "codemirror_mode": {
    "name": "ipython",
    "version": 3
   },
   "file_extension": ".py",
   "mimetype": "text/x-python",
   "name": "python",
   "nbconvert_exporter": "python",
   "pygments_lexer": "ipython3",
   "version": "3.13.1"
  }
 },
 "nbformat": 4,
 "nbformat_minor": 5
}
